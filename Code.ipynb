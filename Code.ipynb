{
  "nbformat": 4,
  "nbformat_minor": 0,
  "metadata": {
    "colab": {
      "provenance": []
    },
    "kernelspec": {
      "name": "python3",
      "display_name": "Python 3"
    },
    "language_info": {
      "name": "python"
    }
  },
  "cells": [
    {
      "cell_type": "code",
      "execution_count": 1,
      "metadata": {
        "colab": {
          "base_uri": "https://localhost:8080/",
          "height": 53
        },
        "id": "e0faIy8zNwAd",
        "outputId": "8be95732-e035-426f-dd5c-827bbc4a2a1d"
      },
      "outputs": [
        {
          "output_type": "execute_result",
          "data": {
            "text/plain": [
              "'\\n17. Write a function that takes a list of numbers as input and returns a new list containing only the even numbers from the input list. Use list comprehension to solve this problem.\\n\\nExample:\\n\\nInput: [1, 2, 3, 4, 5, 6, 7, 8, 9, 10]\\n\\nOutput: [2, 4, 6, 8, 10]\\n'"
            ],
            "application/vnd.google.colaboratory.intrinsic+json": {
              "type": "string"
            }
          },
          "metadata": {},
          "execution_count": 1
        }
      ],
      "source": [
        "'''\n",
        "17. Write a function that takes a list of numbers as input and returns a new list containing only the even numbers from the input list. Use list comprehension to solve this problem.\n",
        "\n",
        "Example:\n",
        "\n",
        "Input: [1, 2, 3, 4, 5, 6, 7, 8, 9, 10]\n",
        "\n",
        "Output: [2, 4, 6, 8, 10]\n",
        "'''"
      ]
    },
    {
      "cell_type": "code",
      "source": [
        "l = [1, 2, 3, 4, 5, 6, 7, 8, 9, 10]\n",
        "\n",
        "list(filter(lambda x:x%2==0 ,l))"
      ],
      "metadata": {
        "colab": {
          "base_uri": "https://localhost:8080/"
        },
        "id": "7MwJ9_MHN1V3",
        "outputId": "5b4e2c00-8c31-498c-d3e3-d63efd31fcdc"
      },
      "execution_count": 13,
      "outputs": [
        {
          "output_type": "execute_result",
          "data": {
            "text/plain": [
              "[2, 4, 6, 8, 10]"
            ]
          },
          "metadata": {},
          "execution_count": 13
        }
      ]
    }
  ]
}